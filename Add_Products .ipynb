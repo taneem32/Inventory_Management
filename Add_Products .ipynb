{
 "cells": [
  {
   "cell_type": "markdown",
   "id": "77a29945",
   "metadata": {},
   "source": [
    "# Read Data From JSON"
   ]
  },
  {
   "cell_type": "code",
   "execution_count": 1,
   "id": "941e3e10",
   "metadata": {},
   "outputs": [],
   "source": [
    "import json"
   ]
  },
  {
   "cell_type": "code",
   "execution_count": 2,
   "id": "fc3f4438",
   "metadata": {},
   "outputs": [],
   "source": [
    "fd = open(\"record.json\",'r')\n",
    "r = fd.read()\n",
    "fd.close()\n"
   ]
  },
  {
   "cell_type": "code",
   "execution_count": 3,
   "id": "4fc005c3",
   "metadata": {},
   "outputs": [],
   "source": [
    "record = json.loads(r)"
   ]
  },
  {
   "cell_type": "markdown",
   "id": "09d48913",
   "metadata": {},
   "source": [
    "\n",
    "# Display Products Of Inventory"
   ]
  },
  {
   "cell_type": "code",
   "execution_count": 4,
   "id": "73df83fe",
   "metadata": {},
   "outputs": [],
   "source": [
    "# CHECK PRODUCTS IN THE INVENTORY\n",
    "def checkProducts():\n",
    "    for i in record:\n",
    "        print('ID: ',i,' Name:',record[i]['name'],' Price:',record[i]['price'],' Quantity:',record[i]['quant'],' Category:',record[i]['category'])\n",
    "  "
   ]
  },
  {
   "cell_type": "markdown",
   "id": "fd0e9411",
   "metadata": {},
   "source": [
    "# Add New Item Into Inventory"
   ]
  },
  {
   "cell_type": "code",
   "execution_count": 5,
   "id": "ae219cc3",
   "metadata": {},
   "outputs": [],
   "source": [
    "# ADD PRODUCTS IN THE INVENTORY\n",
    "def addProducts():\n",
    "    flag = 0\n",
    "    prod_id = str(input(\"Enter product id:\"))\n",
    "    name = str(input(\"Enter name:\"))\n",
    "    price = int(input(\"Enter price:\"))\n",
    "    quant = int(input(\"Enter quantity:\"))\n",
    "    category = input(\"Enter Category:\")\n",
    "    \n",
    "    # IF PRODUCT ALREADY EXISTS JUST UPDATE THE QUANTITY\n",
    "    for i in record:\n",
    "        if i == prod_id:\n",
    "            record[i]['quant'] = record[i]['quant'] + quant\n",
    "            flag = 1\n",
    "       \n",
    "    # IF FLAG == 0 THEN PRODUCT DOESN'T EXISTS AND HENCE NEW PRODUCT IS ADDED\n",
    "    if flag == 0:\n",
    "        record[prod_id] = {'name': name, 'price': price, 'quant': quant,'category':category}\n",
    "    \n",
    "    # UPDATING THE DATA IN THE RECORD.JASON\n",
    "    js = json.dumps(record)\n",
    "    fd = open(\"record.json\",'w')\n",
    "    fd.write(js)\n",
    "    fd.close()\n",
    "        \n",
    "\n",
    "    "
   ]
  },
  {
   "cell_type": "markdown",
   "id": "c4c2c6ea",
   "metadata": {},
   "source": [
    "# Main Program"
   ]
  },
  {
   "cell_type": "code",
   "execution_count": 6,
   "id": "924664fd",
   "metadata": {},
   "outputs": [
    {
     "name": "stdout",
     "output_type": "stream",
     "text": [
      "1. Add Products\n",
      "2. Check Products\n",
      "3. Exit\n"
     ]
    }
   ],
   "source": [
    "print('1. Add Products')\n",
    "print('2. Check Products')\n",
    "print('3. Exit')"
   ]
  },
  {
   "cell_type": "code",
   "execution_count": null,
   "id": "6a219490",
   "metadata": {},
   "outputs": [],
   "source": [
    "while(True):\n",
    "    value = int(input(\"Enter your choice\"))\n",
    "    if value == 1:\n",
    "        addProducts()\n",
    "    elif value == 2:\n",
    "        checkProducts()\n",
    "    elif value == 3:\n",
    "        break\n",
    "    else:\n",
    "        print('1. Add Products')\n",
    "        print('2. Check Products')\n",
    "        print('3. Exit')\n",
    "    \n"
   ]
  },
  {
   "cell_type": "code",
   "execution_count": null,
   "id": "54a5c46a",
   "metadata": {},
   "outputs": [],
   "source": []
  },
  {
   "cell_type": "code",
   "execution_count": null,
   "id": "2054de79",
   "metadata": {},
   "outputs": [],
   "source": []
  },
  {
   "cell_type": "code",
   "execution_count": null,
   "id": "befde591",
   "metadata": {},
   "outputs": [],
   "source": []
  },
  {
   "cell_type": "code",
   "execution_count": null,
   "id": "0d993410",
   "metadata": {},
   "outputs": [],
   "source": []
  }
 ],
 "metadata": {
  "kernelspec": {
   "display_name": "Python 3",
   "language": "python",
   "name": "python3"
  },
  "language_info": {
   "codemirror_mode": {
    "name": "ipython",
    "version": 3
   },
   "file_extension": ".py",
   "mimetype": "text/x-python",
   "name": "python",
   "nbconvert_exporter": "python",
   "pygments_lexer": "ipython3",
   "version": "3.8.8"
  }
 },
 "nbformat": 4,
 "nbformat_minor": 5
}
