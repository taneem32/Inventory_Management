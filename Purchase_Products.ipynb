{
 "cells": [
  {
   "cell_type": "markdown",
   "id": "68b99ce4",
   "metadata": {},
   "source": [
    "# Read Inventory"
   ]
  },
  {
   "cell_type": "code",
   "execution_count": 1,
   "id": "2cf310d9",
   "metadata": {},
   "outputs": [],
   "source": [
    "import json\n",
    "import time\n",
    "\n",
    "fd = open(\"record.json\",'r')\n",
    "r = fd.read()\n",
    "fd.close()\n",
    "\n",
    "record = json.loads(r)\n"
   ]
  },
  {
   "cell_type": "markdown",
   "id": "20d4c118",
   "metadata": {},
   "source": [
    "# Display Products Of The Inventory"
   ]
  },
  {
   "cell_type": "code",
   "execution_count": 2,
   "id": "51f6f601",
   "metadata": {},
   "outputs": [],
   "source": [
    "# DISPLAY PRODUCTS IN THE INVENTORY\n",
    "def displayProducts():\n",
    "    for i in record:\n",
    "        print('ID: ',i,' Name:',record[i]['name'],' Price:',record[i]['price'],' Quantity:',record[i]['quant'],' Category:',record[i]['category'])"
   ]
  },
  {
   "cell_type": "markdown",
   "id": "186ff9e9",
   "metadata": {},
   "source": [
    "# Purchase Products"
   ]
  },
  {
   "cell_type": "code",
   "execution_count": 3,
   "id": "51b8c58e",
   "metadata": {},
   "outputs": [],
   "source": [
    "def purchaseProducts():\n",
    "    flag = 0\n",
    "    ui_prod  = str(input(\"Enter the product_Id: \"))\n",
    "    ui_quant = int(input(\"Enter the quantity: \"))\n",
    "    \n",
    "    for i in record:\n",
    "        if ui_prod == i:\n",
    "            if ui_quant <= record[i]['quant']:\n",
    "                record[i]['quant'] = record[i]['quant'] - ui_quant\n",
    "                flag = 1\n",
    "                break\n",
    "            else:\n",
    "                print(record[i]['name'], ' quantity is ',record[i]['quant'])\n",
    "                print('You cannot buy', ui_quant, 'quantity')\n",
    "                print('Would you like to buy', record[i]['quant'], 'amount of quantity')\n",
    "                print('Enter 1. Purchase')\n",
    "                print('      2. Cancel ')\n",
    "                value = int(input('Enter your choice'))\n",
    "                if value == 1:\n",
    "                    purchaseProducts()\n",
    "                else:\n",
    "                    return\n",
    "    if flag == 0:\n",
    "        print('Enter valid product id')\n",
    "        return\n",
    "     \n",
    "    #Add Purchased Products To Sales.json\n",
    "    updateSales(ui_prod,ui_quant)\n",
    "    \n",
    "\n",
    "    print(\"***********************\")\n",
    "    print(\"Product:        \", record[ui_prod]['name'])\n",
    "    print(\"Price:          \", record[ui_prod]['price'])\n",
    "    print(\"Billing Amount: \", record[ui_prod]['price'] * ui_quant)\n",
    "    print(\"***********************\")\n",
    "    \n",
    "    updateInventory()\n",
    "            "
   ]
  },
  {
   "cell_type": "markdown",
   "id": "813254f5",
   "metadata": {},
   "source": [
    "# Update Inventory After Purchase"
   ]
  },
  {
   "cell_type": "code",
   "execution_count": 4,
   "id": "0acfb533",
   "metadata": {},
   "outputs": [],
   "source": [
    "def updateInventory():\n",
    "    js = json.dumps(record)\n",
    "\n",
    "    fd = open(\"record.json\",'w')\n",
    "    fd.write(js)\n",
    "    fd.close()\n"
   ]
  },
  {
   "cell_type": "markdown",
   "id": "93eda604",
   "metadata": {},
   "source": [
    "\n",
    "# Updating Sales.json"
   ]
  },
  {
   "cell_type": "code",
   "execution_count": 5,
   "id": "9a5f310b",
   "metadata": {},
   "outputs": [],
   "source": [
    "def updateSales(ui_prod,ui_quant):\n",
    "    sale = {(len(sales)+1):{\"name\": record[ui_prod]['name'],\"product_Id\": ui_prod, \"Quantity\":ui_quant, \"Amount\": record[ui_prod]['price'] * ui_quant,\"category\":record[ui_prod]['category']}}\n",
    "    fd = open(\"sales.json\",'r')\n",
    "    data = json.load(fd)\n",
    "    data.update(sale)\n",
    "    fd.close()\n",
    "    fd = open(\"sales.json\",'w')\n",
    "    json.dump(data,fd)\n",
    "    fd.close()\n",
    "    \n",
    "    "
   ]
  },
  {
   "cell_type": "markdown",
   "id": "1c010bcc",
   "metadata": {},
   "source": [
    "# Display Sales.json"
   ]
  },
  {
   "cell_type": "code",
   "execution_count": 6,
   "id": "d7e2a358",
   "metadata": {},
   "outputs": [],
   "source": [
    "# DISPLAY PRODUCTS IN THE SALES.JSON\n",
    "def displaySales():\n",
    "    fd = open(\"sales.json\",'r')\n",
    "    r = fd.read()\n",
    "    fd.close()\n",
    "\n",
    "    sales = json.loads(r) \n",
    "    for i in sales:\n",
    "        print(\"ID: \",i,\" Name:\",sales[i]['product_Id'],\" Quantity:\",sales[i]['Quantity'],\" Amount:\",sales[i]['Amount'],\" Category:\",sales[i]['category'])"
   ]
  },
  {
   "cell_type": "markdown",
   "id": "1cc0fe54",
   "metadata": {},
   "source": [
    "# Main Program"
   ]
  },
  {
   "cell_type": "code",
   "execution_count": null,
   "id": "e778de42",
   "metadata": {},
   "outputs": [],
   "source": [
    "while(True):\n",
    "    value = int(input(\"Enter your choice\"))\n",
    "    if value == 1:\n",
    "        purchaseProducts()\n",
    "    elif value == 2:\n",
    "        displayProducts()\n",
    "    elif value == 3:\n",
    "        displaySales()\n",
    "    elif value == 4:\n",
    "        break\n",
    "    else:\n",
    "        print('1. Purchase Products')\n",
    "        print('2. Display Products')\n",
    "        print('3. Display Sales')\n",
    "        print('4. Exit')"
   ]
  },
  {
   "cell_type": "markdown",
   "id": "759cdac1",
   "metadata": {},
   "source": [
    "# "
   ]
  },
  {
   "cell_type": "code",
   "execution_count": null,
   "id": "c0bf918c",
   "metadata": {},
   "outputs": [],
   "source": []
  }
 ],
 "metadata": {
  "kernelspec": {
   "display_name": "Python 3",
   "language": "python",
   "name": "python3"
  },
  "language_info": {
   "codemirror_mode": {
    "name": "ipython",
    "version": 3
   },
   "file_extension": ".py",
   "mimetype": "text/x-python",
   "name": "python",
   "nbconvert_exporter": "python",
   "pygments_lexer": "ipython3",
   "version": "3.8.8"
  }
 },
 "nbformat": 4,
 "nbformat_minor": 5
}
